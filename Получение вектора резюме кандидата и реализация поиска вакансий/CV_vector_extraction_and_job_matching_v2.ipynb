{
 "cells": [
  {
   "cell_type": "code",
   "execution_count": 309,
   "id": "6fc3b1db",
   "metadata": {},
   "outputs": [],
   "source": [
    "import torch\n",
    "import pandas as pd\n",
    "from sklearn.metrics.pairwise import cosine_distances\n",
    "from sklearn.neighbors import NearestNeighbors"
   ]
  },
  {
   "cell_type": "code",
   "execution_count": 108,
   "id": "5bfbed29",
   "metadata": {},
   "outputs": [],
   "source": [
    "# Загрузка эмбеддингов из файла\n",
    "embeddings = torch.load('embeddings.pth')"
   ]
  },
  {
   "cell_type": "code",
   "execution_count": 109,
   "id": "dd722156",
   "metadata": {},
   "outputs": [
    {
     "data": {
      "text/plain": [
       "tensor([-0.5929, -0.5890,  0.3074, -0.1446, -0.0060, -0.3090, -0.1016,  0.0486,\n",
       "        -0.2660, -0.4252,  1.1846, -0.1723,  0.0310, -0.5860,  0.8490,  0.5920,\n",
       "         0.6755, -0.1215, -0.2984,  0.2459,  0.0699, -0.1027,  0.9846,  0.6645],\n",
       "       grad_fn=<SelectBackward0>)"
      ]
     },
     "execution_count": 109,
     "metadata": {},
     "output_type": "execute_result"
    }
   ],
   "source": [
    "embeddings[1]"
   ]
  },
  {
   "cell_type": "code",
   "execution_count": 110,
   "id": "65e3ff81",
   "metadata": {},
   "outputs": [],
   "source": [
    "# Читаем файл с компетенциями\n",
    "vocab = pd.read_csv('vocabulary.csv')"
   ]
  },
  {
   "cell_type": "code",
   "execution_count": 111,
   "id": "c9c05d0c",
   "metadata": {},
   "outputs": [
    {
     "data": {
      "text/html": [
       "<div>\n",
       "<style scoped>\n",
       "    .dataframe tbody tr th:only-of-type {\n",
       "        vertical-align: middle;\n",
       "    }\n",
       "\n",
       "    .dataframe tbody tr th {\n",
       "        vertical-align: top;\n",
       "    }\n",
       "\n",
       "    .dataframe thead th {\n",
       "        text-align: right;\n",
       "    }\n",
       "</style>\n",
       "<table border=\"1\" class=\"dataframe\">\n",
       "  <thead>\n",
       "    <tr style=\"text-align: right;\">\n",
       "      <th></th>\n",
       "      <th>id</th>\n",
       "      <th>skill</th>\n",
       "    </tr>\n",
       "  </thead>\n",
       "  <tbody>\n",
       "    <tr>\n",
       "      <th>0</th>\n",
       "      <td>0</td>\n",
       "      <td>[PAD]</td>\n",
       "    </tr>\n",
       "    <tr>\n",
       "      <th>1</th>\n",
       "      <td>1</td>\n",
       "      <td>[MASK]</td>\n",
       "    </tr>\n",
       "    <tr>\n",
       "      <th>2</th>\n",
       "      <td>2</td>\n",
       "      <td>NET FRAMEWORK</td>\n",
       "    </tr>\n",
       "  </tbody>\n",
       "</table>\n",
       "</div>"
      ],
      "text/plain": [
       "   id          skill\n",
       "0   0          [PAD]\n",
       "1   1         [MASK]\n",
       "2   2  NET FRAMEWORK"
      ]
     },
     "execution_count": 111,
     "metadata": {},
     "output_type": "execute_result"
    }
   ],
   "source": [
    "vocab.head(3)"
   ]
  },
  {
   "cell_type": "code",
   "execution_count": 112,
   "id": "964afe52",
   "metadata": {},
   "outputs": [
    {
     "data": {
      "text/plain": [
       "12031"
      ]
     },
     "execution_count": 112,
     "metadata": {},
     "output_type": "execute_result"
    }
   ],
   "source": [
    "len(embeddings)"
   ]
  },
  {
   "cell_type": "code",
   "execution_count": 113,
   "id": "6aab6f9c",
   "metadata": {},
   "outputs": [
    {
     "data": {
      "text/plain": [
       "torch.Size([12031, 24])"
      ]
     },
     "execution_count": 113,
     "metadata": {},
     "output_type": "execute_result"
    }
   ],
   "source": [
    "embeddings.shape"
   ]
  },
  {
   "cell_type": "code",
   "execution_count": 114,
   "id": "9e63e1be",
   "metadata": {},
   "outputs": [],
   "source": [
    "# Читаем файл с компетенциями\n",
    "df = pd.read_excel('Dataset_L_8_15_diff_8_COLAB.xlsx')"
   ]
  },
  {
   "cell_type": "code",
   "execution_count": 115,
   "id": "b90e2634",
   "metadata": {},
   "outputs": [],
   "source": [
    "df['SKILLS'] = df['SKILLS'].astype(str)\n",
    "\n",
    "# Длинна каждого посчитаем длинну\n",
    "df['list_of_skill'] = df['SKILLS'].apply(lambda x: x.split(','))"
   ]
  },
  {
   "cell_type": "code",
   "execution_count": 116,
   "id": "e1b6756e",
   "metadata": {},
   "outputs": [],
   "source": [
    "df['cnt_skill'] = df['list_of_skill'].apply(lambda x: len(x))"
   ]
  },
  {
   "cell_type": "code",
   "execution_count": 117,
   "id": "6ddf03e8",
   "metadata": {},
   "outputs": [],
   "source": [
    "df_skill = df[(df.cnt_skill > 7) & (df.cnt_skill < 16)]"
   ]
  },
  {
   "cell_type": "code",
   "execution_count": 118,
   "id": "f07251c4",
   "metadata": {},
   "outputs": [
    {
     "data": {
      "text/html": [
       "<div>\n",
       "<style scoped>\n",
       "    .dataframe tbody tr th:only-of-type {\n",
       "        vertical-align: middle;\n",
       "    }\n",
       "\n",
       "    .dataframe tbody tr th {\n",
       "        vertical-align: top;\n",
       "    }\n",
       "\n",
       "    .dataframe thead th {\n",
       "        text-align: right;\n",
       "    }\n",
       "</style>\n",
       "<table border=\"1\" class=\"dataframe\">\n",
       "  <thead>\n",
       "    <tr style=\"text-align: right;\">\n",
       "      <th></th>\n",
       "      <th>SKILLS</th>\n",
       "      <th>list_of_skill</th>\n",
       "      <th>cnt_skill</th>\n",
       "    </tr>\n",
       "  </thead>\n",
       "  <tbody>\n",
       "    <tr>\n",
       "      <th>0</th>\n",
       "      <td>NET FRAMEWORK,C,MS SQL SERVER,SQL,REACT,REDUX,...</td>\n",
       "      <td>[NET FRAMEWORK, C, MS SQL SERVER, SQL, REACT, ...</td>\n",
       "      <td>12</td>\n",
       "    </tr>\n",
       "    <tr>\n",
       "      <th>1</th>\n",
       "      <td>ЯНДЕКС МЕТРИКА,ЯНДЕКС ДИРЕКТ,GOOGLE ANALYTICS,...</td>\n",
       "      <td>[ЯНДЕКС МЕТРИКА, ЯНДЕКС ДИРЕКТ, GOOGLE ANALYTI...</td>\n",
       "      <td>13</td>\n",
       "    </tr>\n",
       "    <tr>\n",
       "      <th>2</th>\n",
       "      <td>ЯНДЕКС ДИРЕКТ,ЯНДЕКС МЕТРИКА,КОНТЕКСТНАЯ РЕКЛА...</td>\n",
       "      <td>[ЯНДЕКС ДИРЕКТ, ЯНДЕКС МЕТРИКА, КОНТЕКСТНАЯ РЕ...</td>\n",
       "      <td>13</td>\n",
       "    </tr>\n",
       "  </tbody>\n",
       "</table>\n",
       "</div>"
      ],
      "text/plain": [
       "                                              SKILLS  \\\n",
       "0  NET FRAMEWORK,C,MS SQL SERVER,SQL,REACT,REDUX,...   \n",
       "1  ЯНДЕКС МЕТРИКА,ЯНДЕКС ДИРЕКТ,GOOGLE ANALYTICS,...   \n",
       "2  ЯНДЕКС ДИРЕКТ,ЯНДЕКС МЕТРИКА,КОНТЕКСТНАЯ РЕКЛА...   \n",
       "\n",
       "                                       list_of_skill  cnt_skill  \n",
       "0  [NET FRAMEWORK, C, MS SQL SERVER, SQL, REACT, ...         12  \n",
       "1  [ЯНДЕКС МЕТРИКА, ЯНДЕКС ДИРЕКТ, GOOGLE ANALYTI...         13  \n",
       "2  [ЯНДЕКС ДИРЕКТ, ЯНДЕКС МЕТРИКА, КОНТЕКСТНАЯ РЕ...         13  "
      ]
     },
     "execution_count": 118,
     "metadata": {},
     "output_type": "execute_result"
    }
   ],
   "source": [
    "df_skill.head(3)"
   ]
  },
  {
   "cell_type": "code",
   "execution_count": 301,
   "id": "e89d4cfb",
   "metadata": {},
   "outputs": [],
   "source": [
    "from sklearn.decomposition import PCA\n",
    "from sklearn.manifold import TSNE\n",
    "import torch\n",
    "import numpy as np\n",
    "\n",
    "class VectorProcessor:\n",
    "    def __init__(self, vocab, embeddings, df_skill, skill_find):\n",
    "        self.vocab = vocab\n",
    "        self.embeddings = embeddings\n",
    "        self.df_skill = df_skill\n",
    "        self.skill_find = skill_find\n",
    "\n",
    "    def get_word_vectors(self, words):\n",
    "        vocab_list = self.vocab['skill'].to_list()\n",
    "        word_indices = [vocab_list.index(word) if word in vocab_list else -1 for word in words]\n",
    "        word_indices = [idx for idx in word_indices if idx != -1]  # Убираем невалидные индексы\n",
    "        word_vectors = self.embeddings[word_indices]\n",
    "        return word_vectors.clone().detach()\n",
    "\n",
    "    def average_vector(self, result_tensor):\n",
    "        avg_vector = torch.mean(result_tensor, dim=0)\n",
    "        return torch.Tensor(avg_vector)\n",
    "\n",
    "    def get_pca_vector(self, result_tensor, num_components=7):\n",
    "        data = result_tensor.cpu().detach().numpy()\n",
    "        pca = PCA(n_components=num_components)\n",
    "        pca.fit(data)\n",
    "        pca_vector = torch.Tensor(pca.components_[0])\n",
    "        return pca_vector\n",
    "\n",
    "    def get_combined_tsne_vector(self, vectors, perplexity=None):\n",
    "        data = vectors.cpu().detach().numpy()\n",
    "        if perplexity is None:\n",
    "            perplexity = min(5, len(vectors) - 1)\n",
    "        tsne = TSNE(n_components=1, perplexity=perplexity)\n",
    "        tsne_result = tsne.fit_transform(data)\n",
    "        tsne_vector = torch.tensor(tsne_result.ravel())\n",
    "        return tsne_vector\n",
    "    \n",
    "    def get_k_cosine_distances(self, input_vector, embeddings, k=5):\n",
    "        cosine_dists = cosine_distances([input_vector], embeddings)\n",
    "        sorted_indices = np.argsort(cosine_dists)\n",
    "        k_indices = sorted_indices[0][:k]\n",
    "        k_distances = cosine_dists[0][k_indices]\n",
    "        return k_distances, k_indices\n",
    "    \n",
    "    def get_k_nearest_neighbors(self, input_vector, embeddings, k=5):\n",
    "        neigh = NearestNeighbors(n_neighbors=k)\n",
    "        neigh.fit(embeddings)\n",
    "        distances, indices = neigh.kneighbors([input_vector])\n",
    "        return distances[0], indices[0]\n",
    "   \n",
    "    def process_data(self):\n",
    "        batch_size=500\n",
    "        total_rows = len(self.df_skill)\n",
    "        processed_rows = 0\n",
    "        \n",
    "        self.df_skill['average_vector'] = None  # Добавляем пустое поле 'average_vector'\n",
    "        self.df_skill['pca_vector'] = None  # Добавляем пустое поле 'pca_vector'\n",
    "        self.df_skill['tsne_vector'] = None  # Добавляем пустое поле 'tsne_vector\n",
    "        for index, row in self.df_skill.iterrows():\n",
    "            words = row['list_of_skill']  # list_of_skill - это список навыков, для которых нужно получить векторы\n",
    "            word_vectors = self.get_word_vectors(words)\n",
    "            avg_vector = self.average_vector(word_vectors)\n",
    "            pca_vector = self.get_pca_vector(word_vectors)\n",
    "            tsne_vector = self.get_combined_tsne_vector(word_vectors)\n",
    "\n",
    "            self.df_skill.at[index, 'average_vector'] = avg_vector\n",
    "            self.df_skill.at[index, 'pca_vector'] = pca_vector\n",
    "            self.df_skill.at[index, 'tsne_vector'] = tsne_vector\n",
    "            \n",
    "            processed_rows += 1\n",
    "\n",
    "            if processed_rows % batch_size == 0:\n",
    "                print(f'Processed {processed_rows} out of {total_rows} rows.')\n",
    "\n",
    "        remaining_rows = total_rows - processed_rows\n",
    "        print(f'Processed all {total_rows} rows. {remaining_rows} rows remaining.')\n",
    "        \n",
    "    def find_cv(self, skill_find):\n",
    "        input_vector = get_word_vectors(skill_find)\n",
    "        avg_vector = self.average_vector(word_vectors) # метод средних\n",
    "        pca_vector = self.get_pca_vector(word_vectors) # метод 'pca_vector'\n",
    "        tsne_vector = self.get_combined_tsne_vector(word_vectors) # метод 'tsne_vector\n",
    "        \n",
    "        average_vector_list = df_skill['average_vector'].to_list()\n",
    "        pca_vector_list = df_skill['pca_vector'].to_list()\n",
    "        tsne_vector_list = df_skill['tsne_vector'].to_list()\n",
    "              \n",
    "        # Преобразование списка тензоров в один тензор                                           \n",
    "        tensor_column_avg = torch.stack(average_vector_list)\n",
    "        tensor_column_pca = torch.stack(pca_vector_list)\n",
    "        \n",
    "        # Находим максимальную длину вектора в списке\n",
    "        max_len = max(len(tensor) for tensor in tsne_vector_list)\n",
    "        # Выравниваем тензоры до одинаковой длины, добавляя нулевые значения при необходимости\n",
    "        padded_tsne_vector_list = [torch.cat((tensor, torch.zeros(max_len - len(tensor)))) if len(tensor) < max_len else tensor for tensor in tsne_vector_list]\n",
    "        # Объединяем тензоры в список в один тензор\n",
    "        tensor_column_tsne = torch.stack(padded_tsne_vector_list)\n",
    "        \n",
    "        \n",
    "        # Определяем текущую длину tsne_vector\n",
    "        current_len = len(tsne_vector)\n",
    "\n",
    "        # Вычисляем, сколько нулей нужно добавить\n",
    "        num_zeros_to_add = max_len - current_len\n",
    "\n",
    "        # Создаем тензор с нулевыми значениями для дополнения\n",
    "        zeros_to_add = torch.zeros(num_zeros_to_add)\n",
    "\n",
    "        # Добавляем нули к tsne_vector\n",
    "        padded_tsne_vector = torch.cat((tsne_vector, zeros_to_add))\n",
    "\n",
    "        print(f'Поиск методом K-ближайших соседей 5-ти ближайших резюме. Метод получения резюме - average ')\n",
    "        lengt, spisok = self.get_k_nearest_neighbors(avg_vector.detach().numpy(), tensor_column_avg, k=5)\n",
    "        for i in range (len(spisok)):\n",
    "             print(f' Резюме {i+1} ', df_skill['list_of_skill'][spisok[i]])\n",
    "                \n",
    "        print(f'Поиск методом K-ближайших соседей 5-ти ближайших резюме. Метод получения резюме - PCA')\n",
    "        lengt, spisok = self.get_k_nearest_neighbors(pca_vector.detach().numpy(), tensor_column_pca, k=5)\n",
    "        for i in range (len(spisok)):\n",
    "             print(f' Резюме {i+1} ', df_skill['list_of_skill'][spisok[i]])\n",
    "                \n",
    "        print(f'Поиск методом K-ближайших соседей 5-ти ближайших резюме. Метод получения резюме - T-SNE')\n",
    "        lengt, spisok = self.get_k_nearest_neighbors(padded_tsne_vector.detach().numpy(), tensor_column_tsne, k=5)\n",
    "        for i in range (len(spisok)):\n",
    "             print(f' Резюме {i+1} ', df_skill['list_of_skill'][spisok[i]])\n",
    "                \n",
    "        print(f'Поиск методом косинусного расстояния 5-ти ближайших резюме. Метод получения резюме - average')\n",
    "        lengt, spisok = self.get_k_cosine_distances(avg_vector.detach().numpy(), tensor_column_avg, k=5)\n",
    "        for i in range (len(spisok)):\n",
    "             print(f' Резюме {i+1} ', df_skill['list_of_skill'][spisok[i]])\n",
    "                \n",
    "        print(f'Поиск методом косинусного расстояния 5-ти ближайших резюме. Метод получения резюме - PCA')\n",
    "        lengt, spisok = self.get_k_cosine_distances(pca_vector.detach().numpy(), tensor_column_pca, k=5)\n",
    "        for i in range (len(spisok)):\n",
    "             print(f' Резюме {i+1} ', df_skill['list_of_skill'][spisok[i]])\n",
    "                \n",
    "        print(f'Поиск методом косинусного расстояния 5-ти ближайших резюме. Метод получения резюме - T-SNE')\n",
    "        lengt, spisok = self.get_k_cosine_distances(padded_tsne_vector.detach().numpy(), tensor_column_tsne, k=5)\n",
    "        for i in range (len(spisok)):\n",
    "             print(f' Резюме {i+1} ', df_skill['list_of_skill'][spisok[i]])\n",
    "        "
   ]
  },
  {
   "cell_type": "code",
   "execution_count": 302,
   "id": "25d6ef95",
   "metadata": {},
   "outputs": [],
   "source": [
    "skill_find = df_skill['list_of_skill'][23]"
   ]
  },
  {
   "cell_type": "code",
   "execution_count": 303,
   "id": "0a25b78b",
   "metadata": {},
   "outputs": [],
   "source": [
    "vector_processor = VectorProcessor(vocab, embeddings, df_skill, skill_find)\n",
    "#vector_processor.process_data()"
   ]
  },
  {
   "cell_type": "code",
   "execution_count": 308,
   "id": "89606716",
   "metadata": {},
   "outputs": [
    {
     "name": "stdout",
     "output_type": "stream",
     "text": [
      "Поиск методом K-ближайших соседей 5-ти ближайших резюме. Метод получения резюме - average \n",
      " Резюме 1  ['ЯНДЕКС МЕТРИКА', 'ЯНДЕКС ДИРЕКТ', 'GOOGLE ANALYTICS', 'GOOGLE ADWORDS', 'SEO', 'E MAIL MARKETING', 'УПРАВЛЕНИЕ ИНТЕРНЕТ ПРОЕКТАМИ', 'АНАЛИТИЧЕСКОЕ МЫШЛЕНИЕ', 'INTERNET MARKETING', 'ПРОДВИЖЕНИЕ САЙТОВ', 'УПРАВЛЕНИЕ БЮДЖЕТОМ', 'УПРАВЛЕНИЕ КОМАНДОЙ', 'WEB АНАЛИТИКА']\n",
      " Резюме 2  ['РАЗВИТИЕ ПРОДАЖ', 'ИНТЕРНЕТ РЕКЛАМА', 'ПОИСК И ПРИВЛЕЧЕНИЕ КЛИЕНТОВ', 'КОНТЕКСТНАЯ РЕКЛАМА', 'INTERNET MARKETING', 'ИНТЕРНЕТ МАРКЕТИНГ', 'МАРКЕТИНГОВЫЙ АНАЛИЗ', 'АНАЛИТИЧЕСКОЕ МЫШЛЕНИЕ', 'CUSTOMER JOURNEY MAP', 'ЯНДЕКС ДИРЕКТ', 'B2B МАРКЕТИНГ', 'E MAIL MARKETING', 'EMAIL МАРКЕТИНГ', 'BTL']\n",
      " Резюме 3  ['ИНТЕРНЕТ РЕКЛАМА', 'ЯНДЕКС МЕТРИКА', 'GOOGLE ANALYTICS', 'ТАРГЕТИНГ', 'ВЕДЕНИЕ ОТЧЕТНОСТИ', 'INTERNET MARKETING', 'АНАЛИТИЧЕСКОЕ МЫШЛЕНИЕ', 'СОЦИАЛЬНЫЕ СЕТИ', 'ОПТИМИЗАЦИЯ', 'ПРАВИЛЬНО РАССТАВЛЯТЬ ПРИОРИТЕТЫ', 'ЖЕЛАНИЕ УЧИТЬСЯ И РАЗВИВАТЬСЯ', 'ЭФФЕКТИВНОСТЬ', 'ДОСТИЖЕНИЕ ПОСТАВЛЕННЫХ ЦЕЛЕЙ', 'ПЛАНИРОВАНИЕ И ОРГАНИЗАЦИЯ']\n",
      " Резюме 4  ['МАРКЕТИНГОВЫЕ ИССЛЕДОВАНИЯ', 'ПЛАНИРОВАНИЕ МАРКЕТИНГОВЫХ КАМПАНИЙ', 'GOOGLE ANALYTICS', 'МАРКЕТИНГОВЫЙ АНАЛИЗ', 'INTERNET MARKETING', 'ИНТЕРНЕТ РЕКЛАМА', 'ВЕБ АНАЛИТИКА', 'ЯНДЕКС МЕТРИКА', 'АНАЛИТИЧЕСКОЕ МЫШЛЕНИЕ', 'РАЗРАБОТКА МАРКЕТИНГОВОЙ СТРАТЕГИИ', 'МАРКЕТИНГ УСЛУГ', 'УПРАВЛЕНИЕ ИНТЕРНЕТ ПРОЕКТАМИ', 'ИНТЕРНЕТ МАРКЕТИНГ', 'УМЕНИЕ ПЛАНИРОВАТЬ', 'ПРОДВИЖЕНИЕ БРЕНДА']\n",
      " Резюме 5  ['ADOBE PHOTOSHOP', 'MS POWERPOINT', 'НАПОЛНЕНИЕ КОНТЕНТОМ', 'АНАЛИТИЧЕСКОЕ МЫШЛЕНИЕ', 'ГРАФИЧЕСКИЕ РЕДАКТОРЫ', 'CORELDRAW', 'ЗНАНИЕ MS OFFICE', 'ЖЕЛАНИЕ УЧИТЬСЯ И РАЗВИВАТЬСЯ', 'МАРКЕТИНГОВЫЙ АНАЛИЗ', 'РАБОТА В УСЛОВИЯХ МНОГОЗАДАЧНОСТИ', 'АНАЛИЗ ТЕКУЩЕЙ СИТУАЦИИ', 'МЕДИАПЛАНИРОВАНИЕ', 'ПЛАНИРОВАНИЕ МАРКЕТИНГОВЫХ КАМПАНИЙ', 'ПРОДВИЖЕНИЕ БРЕНДА', 'УЧАСТИЕ В ПРОФЕССИОНАЛЬНЫХ ВЫСТАВКАХ']\n",
      "Поиск методом K-ближайших соседей 5-ти ближайших резюме. Метод получения резюме - PCA\n",
      " Резюме 1  ['ЯНДЕКС МЕТРИКА', 'ЯНДЕКС ДИРЕКТ', 'GOOGLE ANALYTICS', 'GOOGLE ADWORDS', 'SEO', 'E MAIL MARKETING', 'УПРАВЛЕНИЕ ИНТЕРНЕТ ПРОЕКТАМИ', 'АНАЛИТИЧЕСКОЕ МЫШЛЕНИЕ', 'INTERNET MARKETING', 'ПРОДВИЖЕНИЕ САЙТОВ', 'УПРАВЛЕНИЕ БЮДЖЕТОМ', 'УПРАВЛЕНИЕ КОМАНДОЙ', 'WEB АНАЛИТИКА']\n",
      " Резюме 2  ['ВЕБ АНАЛИТИКА', 'КОНТЕКСТНАЯ РЕКЛАМА', 'ЯНДЕКС ДИРЕКТ', 'GOOGLE ANALYTICS', 'ЯНДЕКС МЕТРИКА', 'КРЕАТИВНОСТЬ', 'ГРАМОТНОСТЬ', 'YANDEX DIRECT', 'ИНТЕРНЕТ МАРКЕТИНГ', 'E MAIL MARKETING', 'ИНТЕРНЕТ РЕКЛАМА', 'ПРОДВИЖЕНИЕ САЙТОВ', 'ПОИСК ИНФОРМАЦИИ В ИНТЕРНЕТ']\n",
      " Резюме 3  ['ФИНАНСОВЫЙ АНАЛИЗ', 'БЮДЖЕТИРОВАНИЕ', 'УПРАВЛЕНЧЕСКАЯ ОТЧЕТНОСТЬ', 'ФИНАНСОВЫЙ КОНТРОЛЬ', 'РОССИЙСКИЕ СТАНДАРТЫ БУХГАЛТЕРСКОГО УЧЕТА', 'МСФО', 'УПРАВЛЕНЧЕСКИЙ УЧЕТ', 'АВТОМАТИЗАЦИЯ УПРАВЛЕНЧЕСКОЙ ОТЧЕТНОСТИ', 'ФИНАНСОВЫЙ МЕНЕДЖМЕНТ', '1C БУХГАЛТЕРИЯ', 'АНАЛИЗ ФИНАНСОВЫХ ПОКАЗАТЕЛЕЙ', 'АНАЛИЗ ДАННЫХ', '1C ФИНАНСЫ']\n",
      " Резюме 4  ['MS VISIO', 'МОДЕЛИРОВАНИЕ БИЗНЕС ПРОЦЕССОВ', 'БИЗНЕС АНАЛИЗ', 'ОПТИМИЗАЦИЯ БИЗНЕС ПРОЦЕССОВ', 'BPMN', 'FIGMA', 'АВТОМАТИЗАЦИЯ ДОКУМЕНТООБОРОТА', 'АВТОМАТИЗАЦИЯ ПРОЦЕССОВ', 'РАЗРАБОТКА ТЕХНИЧЕСКИХ ЗАДАНИЙ', 'МОДЕЛИРОВАНИЕ ПРОЦЕССОВ', 'БИЗНЕС КОНСУЛЬТИРОВАНИЕ', 'РЕИНЖИНИРИНГ БИЗНЕС ПРОЦЕССОВ', 'УМЕНИЕ РАБОТАТЬ С КЛИЕНТАМИ', 'DIRECTUM RX']\n",
      " Резюме 5  ['MS POWERPOINT', 'ЭКОНОМИЧЕСКИЙ АНАЛИЗ', 'АНАЛИЗ РЫНКА', 'МОНИТОРИНГ ЦЕН', 'АНАЛИТИЧЕСКОЕ МЫШЛЕНИЕ', 'POWER BI', 'DAX', 'АНАЛИЗ КОНКУРЕНТНОЙ СРЕДЫ', 'МАТЕМАТИЧЕСКИЙ АНАЛИЗ', 'НАВЫКИ ПРЕЗЕНТАЦИИ', 'АНАЛИЗ ЦЕНООБРАЗОВАНИЯ', 'НАВЫКИ РАБОТЫ С БОЛЬШИМ ОБЪЕМОМ ИНФОРМАЦИИ']\n",
      "Поиск методом K-ближайших соседей 5-ти ближайших резюме. Метод получения резюме - T-SNE\n",
      " Резюме 1  ['МАРКЕТИНГОВЫЕ ИССЛЕДОВАНИЯ', 'МАРКЕТИНГОВЫЕ КОММУНИКАЦИИ', 'ЛОГИЧЕСКОЕ МЫШЛЕНИЕ', 'РАБОТА С БОЛЬШИМ ОБЪЕМОМ ИНФОРМАЦИИ', 'УДАЛЕННАЯ РАБОТА', 'СОСРЕДОТОЧЕННОСТЬ', 'УМЕНИЕ ПРИНИМАТЬ РЕШЕНИЯ', 'ЭНТУЗИАЗМ', 'ЖЕЛАНИЕ ЗАРАБАТЫВАТЬ', 'СПОКОЙСТВИЕ', 'GOOGLE DOCS', 'ГРАМОТНОСТЬ', 'ПОИСК ИНФОРМАЦИИ В ИНТЕРНЕТ']\n",
      " Резюме 2  ['СКЛАДСКОЙ УЧЕТ', 'РАБОТА С ТМЦ', 'АДРЕСНОЕ ХРАНЕНИЕ', 'УЧЕТ ТМЦ', 'ПРИЕМКА ГРУЗА', 'ИНВЕНТАРИЗАЦИЯ', 'СКЛАДСКОЙ ДОКУМЕНТООБОРОТ', 'СКЛАДСКАЯ ЛОГИСТИКА', 'РАБОТА С ТСД', 'КОМПЛЕКТАЦИЯ', 'ПРИЕМКА ТОВАРА', 'WMS', 'НАВЫКИ РАБОТЫ С ПЕРВИЧНОЙ ДОКУМЕНТАЦИЕЙ']\n",
      " Резюме 3  ['AUTOCAD', 'ПОЛЬЗОВАТЕЛЬ ПК', 'КОМПАС 3D', 'СТРОИТЕЛЬСТВО', 'РАБОТА С ЛЮДЬМИ', 'РАБОТА В РЕЖИМЕ МНОГОЗАДАЧНОСТИ', 'СТРОИТЕЛЬНОЕ ДЕЛОПРОИЗВОДСТВО', 'КОНТРОЛЬ КАЧЕСТВА', 'ВЕДЕНИЕ ОТЧЕТНОСТИ', 'ППР', 'MS INTERNET', 'ВЕДЕНИЕ ДЕЛОВОЙ ПЕРЕПИСКИ', 'РАБОТА С ПРОЕКТНОЙ ДОКУМЕНТАЦИЕЙ', 'УПРАВЛЕНИЕ ПЕРСОНАЛОМ']\n",
      " Резюме 4  ['РАБОТА В КОМАНДЕ', 'ГРАМОТНАЯ РЕЧЬ', 'ДЕЛОВОЕ ОБЩЕНИЕ', 'ГРАМОТНОСТЬ', 'ПРОВЕДЕНИЕ ПРЕЗЕНТАЦИЙ', 'РАБОТА В УСЛОВИЯХ МНОГОЗАДАЧНОСТИ', 'ОБЩЕНИЕ', 'ЗНАНИЕ ЯЗЫКОВ', 'УМЕНИЕ НАХОДИТЬ ОБЩИЙ ЯЗЫК', 'ВЫСОКАЯ ЭНЕРГИЧНОСТЬ', 'РУССКИЙ ЯЗЫК', 'КАЗАХСКИЙ ЯЗЫК', 'АКТИВНЫЙ ПОЛЬЗОВАТЕЛЬ ПК', 'МОТИВИРОВАННОСТЬ']\n",
      " Резюме 5  ['ЗНАНИЕ НОРМАТИВНОЙ ДОКУМЕНТАЦИИ', 'REVIT', 'ЭЛЕКТРОСНАБЖЕНИЕ', 'AUTODESK REVIT', 'ПРОЕКТНАЯ РАБОТА', 'КОММУНИКАЦИЯ', 'ПРОЕКТНАЯ ДОКУМЕНТАЦИЯ', 'ИНЖЕНЕРНЫЕ СИСТЕМЫ', 'ПРОЕКТИРОВАНИЕ', 'СИСТЕМНОЕ МЫШЛЕНИЕ', 'НАРУЖНЫЕ ИНЖЕНЕРНЫЕ СЕТИ', 'ИНЖЕНЕРНЫЕ ИЗЫСКАНИЯ']\n",
      "Поиск методом косинусного расстояния 5-ти ближайших резюме. Метод получения резюме - average\n",
      " Резюме 1  ['ЯНДЕКС МЕТРИКА', 'ЯНДЕКС ДИРЕКТ', 'GOOGLE ANALYTICS', 'GOOGLE ADWORDS', 'SEO', 'E MAIL MARKETING', 'УПРАВЛЕНИЕ ИНТЕРНЕТ ПРОЕКТАМИ', 'АНАЛИТИЧЕСКОЕ МЫШЛЕНИЕ', 'INTERNET MARKETING', 'ПРОДВИЖЕНИЕ САЙТОВ', 'УПРАВЛЕНИЕ БЮДЖЕТОМ', 'УПРАВЛЕНИЕ КОМАНДОЙ', 'WEB АНАЛИТИКА']\n",
      " Резюме 2  ['МАРКЕТИНГОВЫЕ КОММУНИКАЦИИ', 'МАРКЕТИНГОВЫЕ ИССЛЕДОВАНИЯ', 'ПРОДВИЖЕНИЕ БРЕНДА', 'МЕДИАПЛАНИРОВАНИЕ', 'SEO', 'B2B МАРКЕТИНГ', 'ВЕБ АНАЛИТИКА', 'ИНТЕРНЕТ МАРКЕТИНГ', 'SMM', 'КОПИРАЙТИНГ', 'СТРАТЕГИЧЕСКОЕ ПЛАНИРОВАНИЕ', 'УПРАВЛЕНИЕ ИНТЕРНЕТ ПРОЕКТАМИ', 'E MAIL MARKETING', 'ПРОДВИЖЕНИЕ САЙТОВ', 'ПОЛИГРАФИЯ']\n",
      " Резюме 3  ['МАРКЕТИНГОВЫЕ ИССЛЕДОВАНИЯ', 'ПЛАНИРОВАНИЕ МАРКЕТИНГОВЫХ КАМПАНИЙ', 'GOOGLE ANALYTICS', 'МАРКЕТИНГОВЫЙ АНАЛИЗ', 'INTERNET MARKETING', 'ИНТЕРНЕТ РЕКЛАМА', 'ВЕБ АНАЛИТИКА', 'ЯНДЕКС МЕТРИКА', 'АНАЛИТИЧЕСКОЕ МЫШЛЕНИЕ', 'РАЗРАБОТКА МАРКЕТИНГОВОЙ СТРАТЕГИИ', 'МАРКЕТИНГ УСЛУГ', 'УПРАВЛЕНИЕ ИНТЕРНЕТ ПРОЕКТАМИ', 'ИНТЕРНЕТ МАРКЕТИНГ', 'УМЕНИЕ ПЛАНИРОВАТЬ', 'ПРОДВИЖЕНИЕ БРЕНДА']\n",
      " Резюме 4  ['E MAIL MARKETING', 'INTERNET MARKETING', 'ВЕБ АНАЛИТИКА', 'YANDEX DIRECT', 'ЯНДЕКС МЕТРИКА', 'КОНТЕКСТНАЯ РЕКЛАМА', 'КОПИРАЙТИНГ', 'SEO ОПТИМИЗАЦИЯ', 'ЛИДОГЕНЕРАЦИЯ', 'EMAIL МАРКЕТИНГ', 'НАПИСАНИЕ ПРОДАЮЩЕГО КОНТЕНТА', 'ТАРГЕТИНГ']\n",
      " Резюме 5  ['ИНТЕРНЕТ РЕКЛАМА', 'ЯНДЕКС МЕТРИКА', 'GOOGLE ANALYTICS', 'ТАРГЕТИНГ', 'ВЕДЕНИЕ ОТЧЕТНОСТИ', 'INTERNET MARKETING', 'АНАЛИТИЧЕСКОЕ МЫШЛЕНИЕ', 'СОЦИАЛЬНЫЕ СЕТИ', 'ОПТИМИЗАЦИЯ', 'ПРАВИЛЬНО РАССТАВЛЯТЬ ПРИОРИТЕТЫ', 'ЖЕЛАНИЕ УЧИТЬСЯ И РАЗВИВАТЬСЯ', 'ЭФФЕКТИВНОСТЬ', 'ДОСТИЖЕНИЕ ПОСТАВЛЕННЫХ ЦЕЛЕЙ', 'ПЛАНИРОВАНИЕ И ОРГАНИЗАЦИЯ']\n",
      "Поиск методом косинусного расстояния 5-ти ближайших резюме. Метод получения резюме - PCA\n",
      " Резюме 1  ['ЯНДЕКС МЕТРИКА', 'ЯНДЕКС ДИРЕКТ', 'GOOGLE ANALYTICS', 'GOOGLE ADWORDS', 'SEO', 'E MAIL MARKETING', 'УПРАВЛЕНИЕ ИНТЕРНЕТ ПРОЕКТАМИ', 'АНАЛИТИЧЕСКОЕ МЫШЛЕНИЕ', 'INTERNET MARKETING', 'ПРОДВИЖЕНИЕ САЙТОВ', 'УПРАВЛЕНИЕ БЮДЖЕТОМ', 'УПРАВЛЕНИЕ КОМАНДОЙ', 'WEB АНАЛИТИКА']\n",
      " Резюме 2  ['ВЕБ АНАЛИТИКА', 'КОНТЕКСТНАЯ РЕКЛАМА', 'ЯНДЕКС ДИРЕКТ', 'GOOGLE ANALYTICS', 'ЯНДЕКС МЕТРИКА', 'КРЕАТИВНОСТЬ', 'ГРАМОТНОСТЬ', 'YANDEX DIRECT', 'ИНТЕРНЕТ МАРКЕТИНГ', 'E MAIL MARKETING', 'ИНТЕРНЕТ РЕКЛАМА', 'ПРОДВИЖЕНИЕ САЙТОВ', 'ПОИСК ИНФОРМАЦИИ В ИНТЕРНЕТ']\n",
      " Резюме 3  ['ФИНАНСОВЫЙ АНАЛИЗ', 'БЮДЖЕТИРОВАНИЕ', 'УПРАВЛЕНЧЕСКАЯ ОТЧЕТНОСТЬ', 'ФИНАНСОВЫЙ КОНТРОЛЬ', 'РОССИЙСКИЕ СТАНДАРТЫ БУХГАЛТЕРСКОГО УЧЕТА', 'МСФО', 'УПРАВЛЕНЧЕСКИЙ УЧЕТ', 'АВТОМАТИЗАЦИЯ УПРАВЛЕНЧЕСКОЙ ОТЧЕТНОСТИ', 'ФИНАНСОВЫЙ МЕНЕДЖМЕНТ', '1C БУХГАЛТЕРИЯ', 'АНАЛИЗ ФИНАНСОВЫХ ПОКАЗАТЕЛЕЙ', 'АНАЛИЗ ДАННЫХ', '1C ФИНАНСЫ']\n",
      " Резюме 4  ['MS VISIO', 'МОДЕЛИРОВАНИЕ БИЗНЕС ПРОЦЕССОВ', 'БИЗНЕС АНАЛИЗ', 'ОПТИМИЗАЦИЯ БИЗНЕС ПРОЦЕССОВ', 'BPMN', 'FIGMA', 'АВТОМАТИЗАЦИЯ ДОКУМЕНТООБОРОТА', 'АВТОМАТИЗАЦИЯ ПРОЦЕССОВ', 'РАЗРАБОТКА ТЕХНИЧЕСКИХ ЗАДАНИЙ', 'МОДЕЛИРОВАНИЕ ПРОЦЕССОВ', 'БИЗНЕС КОНСУЛЬТИРОВАНИЕ', 'РЕИНЖИНИРИНГ БИЗНЕС ПРОЦЕССОВ', 'УМЕНИЕ РАБОТАТЬ С КЛИЕНТАМИ', 'DIRECTUM RX']\n",
      " Резюме 5  ['MS POWERPOINT', 'ЭКОНОМИЧЕСКИЙ АНАЛИЗ', 'АНАЛИЗ РЫНКА', 'МОНИТОРИНГ ЦЕН', 'АНАЛИТИЧЕСКОЕ МЫШЛЕНИЕ', 'POWER BI', 'DAX', 'АНАЛИЗ КОНКУРЕНТНОЙ СРЕДЫ', 'МАТЕМАТИЧЕСКИЙ АНАЛИЗ', 'НАВЫКИ ПРЕЗЕНТАЦИИ', 'АНАЛИЗ ЦЕНООБРАЗОВАНИЯ', 'НАВЫКИ РАБОТЫ С БОЛЬШИМ ОБЪЕМОМ ИНФОРМАЦИИ']\n",
      "Поиск методом косинусного расстояния 5-ти ближайших резюме. Метод получения резюме - T-SNE\n",
      " Резюме 1  ['AUTOCAD', 'ПОЛЬЗОВАТЕЛЬ ПК', 'КОМПАС 3D', 'СТРОИТЕЛЬСТВО', 'РАБОТА С ЛЮДЬМИ', 'РАБОТА В РЕЖИМЕ МНОГОЗАДАЧНОСТИ', 'СТРОИТЕЛЬНОЕ ДЕЛОПРОИЗВОДСТВО', 'КОНТРОЛЬ КАЧЕСТВА', 'ВЕДЕНИЕ ОТЧЕТНОСТИ', 'ППР', 'MS INTERNET', 'ВЕДЕНИЕ ДЕЛОВОЙ ПЕРЕПИСКИ', 'РАБОТА С ПРОЕКТНОЙ ДОКУМЕНТАЦИЕЙ', 'УПРАВЛЕНИЕ ПЕРСОНАЛОМ']\n",
      " Резюме 2  ['РАБОТА В КОМАНДЕ', 'ОТВЕТСТВЕННОЕ ХРАНЕНИЕ', 'ПОЛЬЗОВАТЕЛЬ ПК', 'УЧЕТ ОСТАТКОВ', 'ЗНАНИЕ КОМПЬЮТЕРА', 'РАБОТА С ЭЛЕКТРОННОЙ ПОЧТОЙ', 'РАБОТАТЬ В КОМАНДЕ', 'УЧЕТ ТОВАРОВ', 'РАБОТА В КОЛЛЕКТИВЕ', 'ТОЧНОСТЬ И ВНИМАТЕЛЬНОСТЬ К ДЕТАЛЯМ', 'РАБОТА НА СКЛАДЕ', 'ДОБРОПОРЯДОЧНОСТЬ', 'КАЗАХСКИЙ ЯЗЫК', 'РУССКИЙ ЯЗЫК', 'МАТЕРИАЛЬНАЯ ОТВЕТСТВЕННОСТЬ']\n",
      " Резюме 3  ['МАРКЕТИНГОВЫЕ ИССЛЕДОВАНИЯ', 'МАРКЕТИНГОВЫЕ КОММУНИКАЦИИ', 'ЛОГИЧЕСКОЕ МЫШЛЕНИЕ', 'РАБОТА С БОЛЬШИМ ОБЪЕМОМ ИНФОРМАЦИИ', 'УДАЛЕННАЯ РАБОТА', 'СОСРЕДОТОЧЕННОСТЬ', 'УМЕНИЕ ПРИНИМАТЬ РЕШЕНИЯ', 'ЭНТУЗИАЗМ', 'ЖЕЛАНИЕ ЗАРАБАТЫВАТЬ', 'СПОКОЙСТВИЕ', 'GOOGLE DOCS', 'ГРАМОТНОСТЬ', 'ПОИСК ИНФОРМАЦИИ В ИНТЕРНЕТ']\n",
      " Резюме 4  ['1С ЗАРПЛАТА И УПРАВЛЕНИЕ ПЕРСОНАЛОМ', '1С ЗУП 8 3', 'БОЛЬНИЧНЫЕ ЛИСТЫ', 'БУМАЖНЫЙ ДОКУМЕНТООБОРОТ', 'РАБОТА С БАНКАМИ', 'ДОКУМЕНТООБОРОТ', 'ТОЧНОСТЬ И ВНИМАТЕЛЬНОСТЬ К ДЕТАЛЯМ', 'ЗУП', 'РАБОТА С ОФИСНОЙ ТЕХНИКОЙ', 'ВЕДЕНИЕ ОТЧЕТНОСТИ', 'РАБОТА В УСЛОВИЯХ МНОГОЗАДАЧНОСТИ', 'РАСЧЕТ ЗАРАБОТНОЙ ПЛАТЫ', 'ПОВРЕМЕНННАЯ ОПЛАТА ТРУДА', 'РАСЧЕТ НАЛОГОВЫХ ОТЧИСЛЕНИЙ ИНОСТРАННЫМ ГРАЖДАНАМ']\n",
      " Резюме 5  ['СКЛАДСКОЙ УЧЕТ', 'РАБОТА С ТМЦ', 'АДРЕСНОЕ ХРАНЕНИЕ', 'УЧЕТ ТМЦ', 'ПРИЕМКА ГРУЗА', 'ИНВЕНТАРИЗАЦИЯ', 'СКЛАДСКОЙ ДОКУМЕНТООБОРОТ', 'СКЛАДСКАЯ ЛОГИСТИКА', 'РАБОТА С ТСД', 'КОМПЛЕКТАЦИЯ', 'ПРИЕМКА ТОВАРА', 'WMS', 'НАВЫКИ РАБОТЫ С ПЕРВИЧНОЙ ДОКУМЕНТАЦИЕЙ']\n"
     ]
    }
   ],
   "source": [
    "vector_processor.find_cv(skill_find)"
   ]
  }
 ],
 "metadata": {
  "kernelspec": {
   "display_name": "Python 3 (ipykernel)",
   "language": "python",
   "name": "python3"
  },
  "language_info": {
   "codemirror_mode": {
    "name": "ipython",
    "version": 3
   },
   "file_extension": ".py",
   "mimetype": "text/x-python",
   "name": "python",
   "nbconvert_exporter": "python",
   "pygments_lexer": "ipython3",
   "version": "3.11.5"
  }
 },
 "nbformat": 4,
 "nbformat_minor": 5
}
